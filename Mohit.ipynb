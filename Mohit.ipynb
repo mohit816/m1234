{
  "nbformat": 4,
  "nbformat_minor": 0,
  "metadata": {
    "colab": {
      "name": "Mohit.ipynb",
      "provenance": [],
      "authorship_tag": "ABX9TyN88724ngOBDY0GXPHV9pFO",
      "include_colab_link": true
    },
    "kernelspec": {
      "name": "python3",
      "display_name": "Python 3"
    },
    "language_info": {
      "name": "python"
    },
    "accelerator": "GPU"
  },
  "cells": [
    {
      "cell_type": "markdown",
      "metadata": {
        "id": "view-in-github",
        "colab_type": "text"
      },
      "source": [
        "<a href=\"https://colab.research.google.com/github/mohit816/m1234/blob/master/Mohit.ipynb\" target=\"_parent\"><img src=\"https://colab.research.google.com/assets/colab-badge.svg\" alt=\"Open In Colab\"/></a>"
      ]
    },
    {
      "cell_type": "code",
      "metadata": {
        "colab": {
          "base_uri": "https://localhost:8080/"
        },
        "id": "mqPvf1mLHH17",
        "outputId": "d206a475-4ca7-4cb3-dada-b3e22ea7146c"
      },
      "source": [
        "#Unzip the File\n",
        "!unzip '0753aae4bec411eb.zip'"
      ],
      "execution_count": 93,
      "outputs": [
        {
          "output_type": "stream",
          "text": [
            "Archive:  0753aae4bec411eb.zip\n",
            "replace sample submission.csv? [y]es, [n]o, [A]ll, [N]one, [r]ename: "
          ],
          "name": "stdout"
        }
      ]
    },
    {
      "cell_type": "code",
      "metadata": {
        "id": "9YdVtN6PJ9sg"
      },
      "source": [
        "#Importing packages\n",
        "import numpy as np\n",
        "import pandas as pd\n"
      ],
      "execution_count": 94,
      "outputs": []
    },
    {
      "cell_type": "code",
      "metadata": {
        "id": "Tbs13sClKHQS"
      },
      "source": [
        "#Reading csv files of dataset\n",
        "train=pd.read_csv('Train.csv')\n",
        "test=pd.read_csv('Test.csv')"
      ],
      "execution_count": 95,
      "outputs": []
    },
    {
      "cell_type": "code",
      "metadata": {
        "colab": {
          "base_uri": "https://localhost:8080/",
          "height": 292
        },
        "id": "5A_JjhUeKv3n",
        "outputId": "b807ea5a-73de-4578-bc36-ad2c351bb589"
      },
      "source": [
        "train.head()"
      ],
      "execution_count": null,
      "outputs": [
        {
          "output_type": "execute_result",
          "data": {
            "text/html": [
              "<div>\n",
              "<style scoped>\n",
              "    .dataframe tbody tr th:only-of-type {\n",
              "        vertical-align: middle;\n",
              "    }\n",
              "\n",
              "    .dataframe tbody tr th {\n",
              "        vertical-align: top;\n",
              "    }\n",
              "\n",
              "    .dataframe thead th {\n",
              "        text-align: right;\n",
              "    }\n",
              "</style>\n",
              "<table border=\"1\" class=\"dataframe\">\n",
              "  <thead>\n",
              "    <tr style=\"text-align: right;\">\n",
              "      <th></th>\n",
              "      <th>EmpID</th>\n",
              "      <th>EmpName</th>\n",
              "      <th>LanguageOfCommunication</th>\n",
              "      <th>Age</th>\n",
              "      <th>Gender</th>\n",
              "      <th>JobProfileIDApplyingFor</th>\n",
              "      <th>HighestDegree</th>\n",
              "      <th>DegreeBranch</th>\n",
              "      <th>GraduatingInstitute</th>\n",
              "      <th>LatestDegreeCGPA</th>\n",
              "      <th>YearsOfExperince</th>\n",
              "      <th>GraduationYear</th>\n",
              "      <th>CurrentCTC</th>\n",
              "      <th>ExpectedCTC</th>\n",
              "      <th>MartialStatus</th>\n",
              "      <th>EmpScore</th>\n",
              "      <th>CurrentDesignation</th>\n",
              "      <th>CurrentCompanyType</th>\n",
              "      <th>DepartmentInCompany</th>\n",
              "      <th>TotalLeavesTaken</th>\n",
              "      <th>BiasInfluentialFactor</th>\n",
              "      <th>FitmentPercent</th>\n",
              "    </tr>\n",
              "  </thead>\n",
              "  <tbody>\n",
              "    <tr>\n",
              "      <th>0</th>\n",
              "      <td>11041</td>\n",
              "      <td>John</td>\n",
              "      <td>English</td>\n",
              "      <td>35</td>\n",
              "      <td>Male</td>\n",
              "      <td>JR85289</td>\n",
              "      <td>B.Tech</td>\n",
              "      <td>Electrical</td>\n",
              "      <td>Tier 1</td>\n",
              "      <td>7</td>\n",
              "      <td>12</td>\n",
              "      <td>2009</td>\n",
              "      <td>21</td>\n",
              "      <td>26</td>\n",
              "      <td>Married</td>\n",
              "      <td>5</td>\n",
              "      <td>SSE</td>\n",
              "      <td>Enterprise</td>\n",
              "      <td>Design</td>\n",
              "      <td>20</td>\n",
              "      <td>YearsOfExperince</td>\n",
              "      <td>95.40</td>\n",
              "    </tr>\n",
              "    <tr>\n",
              "      <th>1</th>\n",
              "      <td>15079</td>\n",
              "      <td>William</td>\n",
              "      <td>English</td>\n",
              "      <td>26</td>\n",
              "      <td>Male</td>\n",
              "      <td>JR87525</td>\n",
              "      <td>B.Tech</td>\n",
              "      <td>Artificial Intelligence</td>\n",
              "      <td>Tier 3</td>\n",
              "      <td>7</td>\n",
              "      <td>3</td>\n",
              "      <td>2018</td>\n",
              "      <td>15</td>\n",
              "      <td>19</td>\n",
              "      <td>Married</td>\n",
              "      <td>5</td>\n",
              "      <td>BA</td>\n",
              "      <td>MidSized</td>\n",
              "      <td>Engineering</td>\n",
              "      <td>6</td>\n",
              "      <td>NaN</td>\n",
              "      <td>67.09</td>\n",
              "    </tr>\n",
              "    <tr>\n",
              "      <th>2</th>\n",
              "      <td>18638</td>\n",
              "      <td>James</td>\n",
              "      <td>English</td>\n",
              "      <td>36</td>\n",
              "      <td>Female</td>\n",
              "      <td>JR87525</td>\n",
              "      <td>PhD</td>\n",
              "      <td>Computer Science</td>\n",
              "      <td>Tier 1</td>\n",
              "      <td>6</td>\n",
              "      <td>6</td>\n",
              "      <td>2015</td>\n",
              "      <td>15</td>\n",
              "      <td>24</td>\n",
              "      <td>Single</td>\n",
              "      <td>5</td>\n",
              "      <td>SDE</td>\n",
              "      <td>MidSized</td>\n",
              "      <td>Engineering</td>\n",
              "      <td>19</td>\n",
              "      <td>Gender</td>\n",
              "      <td>91.26</td>\n",
              "    </tr>\n",
              "    <tr>\n",
              "      <th>3</th>\n",
              "      <td>3941</td>\n",
              "      <td>Charles</td>\n",
              "      <td>English</td>\n",
              "      <td>29</td>\n",
              "      <td>Female</td>\n",
              "      <td>JR87525</td>\n",
              "      <td>BCA</td>\n",
              "      <td>Information Technology</td>\n",
              "      <td>Tier 2</td>\n",
              "      <td>5</td>\n",
              "      <td>6</td>\n",
              "      <td>2015</td>\n",
              "      <td>16</td>\n",
              "      <td>24</td>\n",
              "      <td>Married</td>\n",
              "      <td>5</td>\n",
              "      <td>SDE</td>\n",
              "      <td>Startup</td>\n",
              "      <td>Product</td>\n",
              "      <td>16</td>\n",
              "      <td>Gender</td>\n",
              "      <td>72.29</td>\n",
              "    </tr>\n",
              "    <tr>\n",
              "      <th>4</th>\n",
              "      <td>5936</td>\n",
              "      <td>George</td>\n",
              "      <td>English</td>\n",
              "      <td>25</td>\n",
              "      <td>Male</td>\n",
              "      <td>JR70175</td>\n",
              "      <td>Dual M.Tech</td>\n",
              "      <td>Computer Science</td>\n",
              "      <td>Tier 3</td>\n",
              "      <td>8</td>\n",
              "      <td>2</td>\n",
              "      <td>2019</td>\n",
              "      <td>24</td>\n",
              "      <td>32</td>\n",
              "      <td>Married</td>\n",
              "      <td>5</td>\n",
              "      <td>SDE</td>\n",
              "      <td>Enterprise</td>\n",
              "      <td>Engineering</td>\n",
              "      <td>10</td>\n",
              "      <td>DegreeBranch</td>\n",
              "      <td>86.34</td>\n",
              "    </tr>\n",
              "  </tbody>\n",
              "</table>\n",
              "</div>"
            ],
            "text/plain": [
              "   EmpID  EmpName  ... BiasInfluentialFactor  FitmentPercent\n",
              "0  11041     John  ...      YearsOfExperince           95.40\n",
              "1  15079  William  ...                   NaN           67.09\n",
              "2  18638    James  ...                Gender           91.26\n",
              "3   3941  Charles  ...                Gender           72.29\n",
              "4   5936   George  ...          DegreeBranch           86.34\n",
              "\n",
              "[5 rows x 22 columns]"
            ]
          },
          "metadata": {
            "tags": []
          },
          "execution_count": 4
        }
      ]
    },
    {
      "cell_type": "code",
      "metadata": {
        "colab": {
          "base_uri": "https://localhost:8080/"
        },
        "id": "ALhKaJ6kT5ps",
        "outputId": "8535780c-092b-4a84-e53e-1322fe34cbf2"
      },
      "source": [
        "train.shape"
      ],
      "execution_count": null,
      "outputs": [
        {
          "output_type": "execute_result",
          "data": {
            "text/plain": [
              "(13645, 22)"
            ]
          },
          "metadata": {
            "tags": []
          },
          "execution_count": 11
        }
      ]
    },
    {
      "cell_type": "code",
      "metadata": {
        "colab": {
          "base_uri": "https://localhost:8080/"
        },
        "id": "XE69nCDqemK6",
        "outputId": "75a90194-0fcb-4d45-ae4f-05a79ff5c9ac"
      },
      "source": [
        "test.shape"
      ],
      "execution_count": null,
      "outputs": [
        {
          "output_type": "execute_result",
          "data": {
            "text/plain": [
              "(8745, 20)"
            ]
          },
          "metadata": {
            "tags": []
          },
          "execution_count": 10
        }
      ]
    },
    {
      "cell_type": "code",
      "metadata": {
        "colab": {
          "base_uri": "https://localhost:8080/",
          "height": 317
        },
        "id": "FdqqsE5mixX2",
        "outputId": "7cf8bbb1-f154-4115-f797-3d1170793db5"
      },
      "source": [
        "#Exploratory data Analysis\n",
        "train.describe()"
      ],
      "execution_count": null,
      "outputs": [
        {
          "output_type": "execute_result",
          "data": {
            "text/html": [
              "<div>\n",
              "<style scoped>\n",
              "    .dataframe tbody tr th:only-of-type {\n",
              "        vertical-align: middle;\n",
              "    }\n",
              "\n",
              "    .dataframe tbody tr th {\n",
              "        vertical-align: top;\n",
              "    }\n",
              "\n",
              "    .dataframe thead th {\n",
              "        text-align: right;\n",
              "    }\n",
              "</style>\n",
              "<table border=\"1\" class=\"dataframe\">\n",
              "  <thead>\n",
              "    <tr style=\"text-align: right;\">\n",
              "      <th></th>\n",
              "      <th>EmpID</th>\n",
              "      <th>Age</th>\n",
              "      <th>LatestDegreeCGPA</th>\n",
              "      <th>YearsOfExperince</th>\n",
              "      <th>GraduationYear</th>\n",
              "      <th>CurrentCTC</th>\n",
              "      <th>ExpectedCTC</th>\n",
              "      <th>EmpScore</th>\n",
              "      <th>TotalLeavesTaken</th>\n",
              "      <th>FitmentPercent</th>\n",
              "    </tr>\n",
              "  </thead>\n",
              "  <tbody>\n",
              "    <tr>\n",
              "      <th>count</th>\n",
              "      <td>13645.000000</td>\n",
              "      <td>13645.000000</td>\n",
              "      <td>13645.000000</td>\n",
              "      <td>13645.000000</td>\n",
              "      <td>13645.000000</td>\n",
              "      <td>13645.000000</td>\n",
              "      <td>13645.000000</td>\n",
              "      <td>13645.000000</td>\n",
              "      <td>13645.000000</td>\n",
              "      <td>13645.000000</td>\n",
              "    </tr>\n",
              "    <tr>\n",
              "      <th>mean</th>\n",
              "      <td>13150.781239</td>\n",
              "      <td>30.691242</td>\n",
              "      <td>7.100257</td>\n",
              "      <td>6.547746</td>\n",
              "      <td>2014.452254</td>\n",
              "      <td>18.076951</td>\n",
              "      <td>25.061488</td>\n",
              "      <td>3.392085</td>\n",
              "      <td>11.967021</td>\n",
              "      <td>75.880093</td>\n",
              "    </tr>\n",
              "    <tr>\n",
              "      <th>std</th>\n",
              "      <td>6475.019626</td>\n",
              "      <td>3.881378</td>\n",
              "      <td>1.346539</td>\n",
              "      <td>3.426920</td>\n",
              "      <td>3.426920</td>\n",
              "      <td>7.208130</td>\n",
              "      <td>7.478119</td>\n",
              "      <td>1.044676</td>\n",
              "      <td>4.897836</td>\n",
              "      <td>14.894207</td>\n",
              "    </tr>\n",
              "    <tr>\n",
              "      <th>min</th>\n",
              "      <td>2001.000000</td>\n",
              "      <td>24.000000</td>\n",
              "      <td>4.000000</td>\n",
              "      <td>1.000000</td>\n",
              "      <td>2009.000000</td>\n",
              "      <td>6.000000</td>\n",
              "      <td>10.000000</td>\n",
              "      <td>1.000000</td>\n",
              "      <td>4.000000</td>\n",
              "      <td>33.530000</td>\n",
              "    </tr>\n",
              "    <tr>\n",
              "      <th>25%</th>\n",
              "      <td>7501.000000</td>\n",
              "      <td>28.000000</td>\n",
              "      <td>6.000000</td>\n",
              "      <td>4.000000</td>\n",
              "      <td>2012.000000</td>\n",
              "      <td>12.000000</td>\n",
              "      <td>19.000000</td>\n",
              "      <td>3.000000</td>\n",
              "      <td>8.000000</td>\n",
              "      <td>68.720000</td>\n",
              "    </tr>\n",
              "    <tr>\n",
              "      <th>50%</th>\n",
              "      <td>13173.000000</td>\n",
              "      <td>31.000000</td>\n",
              "      <td>7.000000</td>\n",
              "      <td>7.000000</td>\n",
              "      <td>2014.000000</td>\n",
              "      <td>18.000000</td>\n",
              "      <td>25.000000</td>\n",
              "      <td>3.000000</td>\n",
              "      <td>12.000000</td>\n",
              "      <td>78.110000</td>\n",
              "    </tr>\n",
              "    <tr>\n",
              "      <th>75%</th>\n",
              "      <td>18718.000000</td>\n",
              "      <td>34.000000</td>\n",
              "      <td>8.000000</td>\n",
              "      <td>9.000000</td>\n",
              "      <td>2017.000000</td>\n",
              "      <td>24.000000</td>\n",
              "      <td>31.000000</td>\n",
              "      <td>4.000000</td>\n",
              "      <td>16.000000</td>\n",
              "      <td>87.990000</td>\n",
              "    </tr>\n",
              "    <tr>\n",
              "      <th>max</th>\n",
              "      <td>24390.000000</td>\n",
              "      <td>42.000000</td>\n",
              "      <td>10.000000</td>\n",
              "      <td>12.000000</td>\n",
              "      <td>2020.000000</td>\n",
              "      <td>30.000000</td>\n",
              "      <td>40.000000</td>\n",
              "      <td>5.000000</td>\n",
              "      <td>20.000000</td>\n",
              "      <td>95.500000</td>\n",
              "    </tr>\n",
              "  </tbody>\n",
              "</table>\n",
              "</div>"
            ],
            "text/plain": [
              "              EmpID           Age  ...  TotalLeavesTaken  FitmentPercent\n",
              "count  13645.000000  13645.000000  ...      13645.000000    13645.000000\n",
              "mean   13150.781239     30.691242  ...         11.967021       75.880093\n",
              "std     6475.019626      3.881378  ...          4.897836       14.894207\n",
              "min     2001.000000     24.000000  ...          4.000000       33.530000\n",
              "25%     7501.000000     28.000000  ...          8.000000       68.720000\n",
              "50%    13173.000000     31.000000  ...         12.000000       78.110000\n",
              "75%    18718.000000     34.000000  ...         16.000000       87.990000\n",
              "max    24390.000000     42.000000  ...         20.000000       95.500000\n",
              "\n",
              "[8 rows x 10 columns]"
            ]
          },
          "metadata": {
            "tags": []
          },
          "execution_count": 4
        }
      ]
    },
    {
      "cell_type": "code",
      "metadata": {
        "colab": {
          "base_uri": "https://localhost:8080/",
          "height": 518
        },
        "id": "65KhfCr_gy3n",
        "outputId": "15c0306c-b75c-4c04-8f07-25997237d047"
      },
      "source": [
        "#Data Visualization of features\n",
        "ggplot() + geom_bar(aes(x=\"Gender\"), data=train, stat='bin', bins=10.0,fill=\"green\")"
      ],
      "execution_count": 90,
      "outputs": [
        {
          "output_type": "stream",
          "text": [
            "/usr/local/lib/python3.7/dist-packages/plotnine/utils.py:1246: FutureWarning: is_categorical is deprecated and will be removed in a future version.  Use is_categorical_dtype instead\n",
            "  if pdtypes.is_categorical(arr):\n"
          ],
          "name": "stderr"
        },
        {
          "output_type": "display_data",
          "data": {
            "image/png": "[encoded data removed]",
            "text/plain": [
              "<Figure size 640x480 with 1 Axes>"
            ]
          },
          "metadata": {
            "tags": []
          }
        },
        {
          "output_type": "execute_result",
          "data": {
            "text/plain": [
              "<ggplot: (8794393616305)>"
            ]
          },
          "metadata": {
            "tags": []
          },
          "execution_count": 90
        }
      ]
    },
    {
      "cell_type": "code",
      "metadata": {
        "colab": {
          "base_uri": "https://localhost:8080/",
          "height": 464
        },
        "id": "z_80C3ERe1aZ",
        "outputId": "90421872-058e-4e6f-a040-23023e5fa6bb"
      },
      "source": [
        "import numpy as np\n",
        "import pandas as pd\n",
        "from sklearn.preprocessing import LabelEncoder, RobustScaler\n",
        "from sklearn.linear_model import LinearRegression\n",
        "\n",
        "ggplot() + geom_bar(aes(x=\"FitmentPercent\"), data=train, stat='bin', bins=10.0,fill=\"red\")"
      ],
      "execution_count": 89,
      "outputs": [
        {
          "output_type": "display_data",
          "data": {
            "image/png": "[encoded data removed]",
            "text/plain": [
              "<Figure size 640x480 with 1 Axes>"
            ]
          },
          "metadata": {
            "tags": []
          }
        },
        {
          "output_type": "execute_result",
          "data": {
            "text/plain": [
              "<ggplot: (8794392000113)>"
            ]
          },
          "metadata": {
            "tags": []
          },
          "execution_count": 89
        }
      ]
    },
    {
      "cell_type": "code",
      "metadata": {
        "colab": {
          "base_uri": "https://localhost:8080/",
          "height": 518
        },
        "id": "Si2o_t1EOxK_",
        "outputId": "54d0370c-84fc-427d-e11a-8580ef26967c"
      },
      "source": [
        "ggplot() + geom_bar(aes(x=\"CurrentCompanyType\"), data=train, stat='bin', bins=10.0,fill=\"blue\")"
      ],
      "execution_count": 88,
      "outputs": [
        {
          "output_type": "stream",
          "text": [
            "/usr/local/lib/python3.7/dist-packages/plotnine/utils.py:1246: FutureWarning: is_categorical is deprecated and will be removed in a future version.  Use is_categorical_dtype instead\n",
            "  if pdtypes.is_categorical(arr):\n"
          ],
          "name": "stderr"
        },
        {
          "output_type": "display_data",
          "data": {
            "image/png": "[encoded data removed]",
            "text/plain": [
              "<Figure size 640x480 with 1 Axes>"
            ]
          },
          "metadata": {
            "tags": []
          }
        },
        {
          "output_type": "execute_result",
          "data": {
            "text/plain": [
              "<ggplot: (8794392009609)>"
            ]
          },
          "metadata": {
            "tags": []
          },
          "execution_count": 88
        }
      ]
    },
    {
      "cell_type": "code",
      "metadata": {
        "colab": {
          "base_uri": "https://localhost:8080/",
          "height": 464
        },
        "id": "hhR0DiKR2UJZ",
        "outputId": "1568e53e-b53f-4f2b-ce6d-405bd5da8f0d"
      },
      "source": [
        "ggplot() + geom_bar(aes(x=\"MartialStatus\"), data=train, stat='bin', bins=10.0,fill=\"pink\")"
      ],
      "execution_count": 140,
      "outputs": [
        {
          "output_type": "display_data",
          "data": {
            "image/png": "[encoded data removed]",
            "text/plain": [
              "<Figure size 640x480 with 1 Axes>"
            ]
          },
          "metadata": {
            "tags": []
          }
        },
        {
          "output_type": "execute_result",
          "data": {
            "text/plain": [
              "<ggplot: (8794391264309)>"
            ]
          },
          "metadata": {
            "tags": []
          },
          "execution_count": 140
        }
      ]
    },
    {
      "cell_type": "code",
      "metadata": {
        "colab": {
          "base_uri": "https://localhost:8080/",
          "height": 464
        },
        "id": "DkeDyCIquNfJ",
        "outputId": "a6b0558c-3091-4060-f9fa-93e148361928"
      },
      "source": [
        "ggplot() + geom_bar(aes(x=\"Age\"), data=train, stat='bin', bins=10.0,fill=\"yellow\")"
      ],
      "execution_count": 141,
      "outputs": [
        {
          "output_type": "display_data",
          "data": {
            "image/png": "[encoded data removed]",
            "text/plain": [
              "<Figure size 640x480 with 1 Axes>"
            ]
          },
          "metadata": {
            "tags": []
          }
        },
        {
          "output_type": "execute_result",
          "data": {
            "text/plain": [
              "<ggplot: (8794391226097)>"
            ]
          },
          "metadata": {
            "tags": []
          },
          "execution_count": 141
        }
      ]
    },
    {
      "cell_type": "code",
      "metadata": {
        "colab": {
          "base_uri": "https://localhost:8080/",
          "height": 464
        },
        "id": "3MeAUU-m2l8U",
        "outputId": "d7058595-7b38-44a0-bbd4-d95c4e54ddae"
      },
      "source": [
        "ggplot() + geom_bar(aes(x=\"LanguageOfCommunication\"), data=train, stat='bin', bins=10.0,fill=\"violet\")"
      ],
      "execution_count": 142,
      "outputs": [
        {
          "output_type": "display_data",
          "data": {
            "image/png": "[encoded data removed]",
            "text/plain": [
              "<Figure size 640x480 with 1 Axes>"
            ]
          },
          "metadata": {
            "tags": []
          }
        },
        {
          "output_type": "execute_result",
          "data": {
            "text/plain": [
              "<ggplot: (8794391224401)>"
            ]
          },
          "metadata": {
            "tags": []
          },
          "execution_count": 142
        }
      ]
    },
    {
      "cell_type": "code",
      "metadata": {
        "colab": {
          "base_uri": "https://localhost:8080/",
          "height": 464
        },
        "id": "CFd8UrAV2vt8",
        "outputId": "ebd1b785-954c-40f4-8ec4-e4b48e677116"
      },
      "source": [
        "ggplot() + geom_bar(aes(x=\"BiasInfluentialFactor\"), data=train, stat='bin', bins=10.0,fill=\"orange\")"
      ],
      "execution_count": 143,
      "outputs": [
        {
          "output_type": "display_data",
          "data": {
            "image/png": "[encoded data removed]",
            "text/plain": [
              "<Figure size 640x480 with 1 Axes>"
            ]
          },
          "metadata": {
            "tags": []
          }
        },
        {
          "output_type": "execute_result",
          "data": {
            "text/plain": [
              "<ggplot: (8794391196113)>"
            ]
          },
          "metadata": {
            "tags": []
          },
          "execution_count": 143
        }
      ]
    },
    {
      "cell_type": "code",
      "metadata": {
        "colab": {
          "base_uri": "https://localhost:8080/",
          "height": 464
        },
        "id": "px7RALl43JS1",
        "outputId": "05a1db96-caff-415d-e000-07c7efc6304c"
      },
      "source": [
        "ggplot() + geom_bar(aes(x=\"YearsOfExperince\"), data=train, stat='bin', bins=10.0,fill=\"brown\")"
      ],
      "execution_count": 148,
      "outputs": [
        {
          "output_type": "display_data",
          "data": {
            "image/png": "[encoded data removed]",
            "text/plain": [
              "<Figure size 640x480 with 1 Axes>"
            ]
          },
          "metadata": {
            "tags": []
          }
        },
        {
          "output_type": "execute_result",
          "data": {
            "text/plain": [
              "<ggplot: (8794391068997)>"
            ]
          },
          "metadata": {
            "tags": []
          },
          "execution_count": 148
        }
      ]
    },
    {
      "cell_type": "code",
      "metadata": {
        "colab": {
          "base_uri": "https://localhost:8080/",
          "height": 464
        },
        "id": "h80DW_6I3kk2",
        "outputId": "c90de99d-5d82-4e0e-97dd-2d6589ccc200"
      },
      "source": [
        "ggplot() + geom_bar(aes(x=\"GraduatingInstitute\"), data=train, stat='bin', bins=10.0,fill=\"silver\")"
      ],
      "execution_count": 151,
      "outputs": [
        {
          "output_type": "display_data",
          "data": {
            "image/png": "[encoded data removed]",
            "text/plain": [
              "<Figure size 640x480 with 1 Axes>"
            ]
          },
          "metadata": {
            "tags": []
          }
        },
        {
          "output_type": "execute_result",
          "data": {
            "text/plain": [
              "<ggplot: (8794390986001)>"
            ]
          },
          "metadata": {
            "tags": []
          },
          "execution_count": 151
        }
      ]
    },
    {
      "cell_type": "code",
      "metadata": {
        "colab": {
          "base_uri": "https://localhost:8080/",
          "height": 464
        },
        "id": "IIPhxH3b33sl",
        "outputId": "881c11b9-e75c-4609-e90f-025229d404bf"
      },
      "source": [
        "ggplot() + geom_bar(aes(x=\"GraduationYear\"), data=train, stat='bin', bins=10.0,fill=\"red\")"
      ],
      "execution_count": 152,
      "outputs": [
        {
          "output_type": "display_data",
          "data": {
            "image/png": "[encoded data removed]",
            "text/plain": [
              "<Figure size 640x480 with 1 Axes>"
            ]
          },
          "metadata": {
            "tags": []
          }
        },
        {
          "output_type": "execute_result",
          "data": {
            "text/plain": [
              "<ggplot: (8794390988985)>"
            ]
          },
          "metadata": {
            "tags": []
          },
          "execution_count": 152
        }
      ]
    },
    {
      "cell_type": "code",
      "metadata": {
        "colab": {
          "base_uri": "https://localhost:8080/",
          "height": 575
        },
        "id": "2oZMizmaPsjt",
        "outputId": "f12103d7-95a3-4e5d-de2c-5029b6ae3b7d"
      },
      "source": [
        "#Merge Train and Test data \n",
        "df = pd.concat([train,test],axis=0,sort=True)\n",
        "df"
      ],
      "execution_count": null,
      "outputs": [
        {
          "output_type": "execute_result",
          "data": {
            "text/html": [
              "<div>\n",
              "<style scoped>\n",
              "    .dataframe tbody tr th:only-of-type {\n",
              "        vertical-align: middle;\n",
              "    }\n",
              "\n",
              "    .dataframe tbody tr th {\n",
              "        vertical-align: top;\n",
              "    }\n",
              "\n",
              "    .dataframe thead th {\n",
              "        text-align: right;\n",
              "    }\n",
              "</style>\n",
              "<table border=\"1\" class=\"dataframe\">\n",
              "  <thead>\n",
              "    <tr style=\"text-align: right;\">\n",
              "      <th></th>\n",
              "      <th>Age</th>\n",
              "      <th>BiasInfluentialFactor</th>\n",
              "      <th>CurrentCTC</th>\n",
              "      <th>CurrentCompanyType</th>\n",
              "      <th>CurrentDesignation</th>\n",
              "      <th>DegreeBranch</th>\n",
              "      <th>DepartmentInCompany</th>\n",
              "      <th>EmpID</th>\n",
              "      <th>EmpName</th>\n",
              "      <th>EmpScore</th>\n",
              "      <th>ExpectedCTC</th>\n",
              "      <th>FitmentPercent</th>\n",
              "      <th>Gender</th>\n",
              "      <th>GraduatingInstitute</th>\n",
              "      <th>GraduationYear</th>\n",
              "      <th>HighestDegree</th>\n",
              "      <th>JobProfileIDApplyingFor</th>\n",
              "      <th>LanguageOfCommunication</th>\n",
              "      <th>LatestDegreeCGPA</th>\n",
              "      <th>MartialStatus</th>\n",
              "      <th>TotalLeavesTaken</th>\n",
              "      <th>YearsOfExperince</th>\n",
              "    </tr>\n",
              "  </thead>\n",
              "  <tbody>\n",
              "    <tr>\n",
              "      <th>0</th>\n",
              "      <td>35</td>\n",
              "      <td>YearsOfExperince</td>\n",
              "      <td>21</td>\n",
              "      <td>Enterprise</td>\n",
              "      <td>SSE</td>\n",
              "      <td>Electrical</td>\n",
              "      <td>Design</td>\n",
              "      <td>11041</td>\n",
              "      <td>John</td>\n",
              "      <td>5</td>\n",
              "      <td>26</td>\n",
              "      <td>95.40</td>\n",
              "      <td>Male</td>\n",
              "      <td>Tier 1</td>\n",
              "      <td>2009</td>\n",
              "      <td>B.Tech</td>\n",
              "      <td>JR85289</td>\n",
              "      <td>English</td>\n",
              "      <td>7</td>\n",
              "      <td>Married</td>\n",
              "      <td>20</td>\n",
              "      <td>12</td>\n",
              "    </tr>\n",
              "    <tr>\n",
              "      <th>1</th>\n",
              "      <td>26</td>\n",
              "      <td>NaN</td>\n",
              "      <td>15</td>\n",
              "      <td>MidSized</td>\n",
              "      <td>BA</td>\n",
              "      <td>Artificial Intelligence</td>\n",
              "      <td>Engineering</td>\n",
              "      <td>15079</td>\n",
              "      <td>William</td>\n",
              "      <td>5</td>\n",
              "      <td>19</td>\n",
              "      <td>67.09</td>\n",
              "      <td>Male</td>\n",
              "      <td>Tier 3</td>\n",
              "      <td>2018</td>\n",
              "      <td>B.Tech</td>\n",
              "      <td>JR87525</td>\n",
              "      <td>English</td>\n",
              "      <td>7</td>\n",
              "      <td>Married</td>\n",
              "      <td>6</td>\n",
              "      <td>3</td>\n",
              "    </tr>\n",
              "    <tr>\n",
              "      <th>2</th>\n",
              "      <td>36</td>\n",
              "      <td>Gender</td>\n",
              "      <td>15</td>\n",
              "      <td>MidSized</td>\n",
              "      <td>SDE</td>\n",
              "      <td>Computer Science</td>\n",
              "      <td>Engineering</td>\n",
              "      <td>18638</td>\n",
              "      <td>James</td>\n",
              "      <td>5</td>\n",
              "      <td>24</td>\n",
              "      <td>91.26</td>\n",
              "      <td>Female</td>\n",
              "      <td>Tier 1</td>\n",
              "      <td>2015</td>\n",
              "      <td>PhD</td>\n",
              "      <td>JR87525</td>\n",
              "      <td>English</td>\n",
              "      <td>6</td>\n",
              "      <td>Single</td>\n",
              "      <td>19</td>\n",
              "      <td>6</td>\n",
              "    </tr>\n",
              "    <tr>\n",
              "      <th>3</th>\n",
              "      <td>29</td>\n",
              "      <td>Gender</td>\n",
              "      <td>16</td>\n",
              "      <td>Startup</td>\n",
              "      <td>SDE</td>\n",
              "      <td>Information Technology</td>\n",
              "      <td>Product</td>\n",
              "      <td>3941</td>\n",
              "      <td>Charles</td>\n",
              "      <td>5</td>\n",
              "      <td>24</td>\n",
              "      <td>72.29</td>\n",
              "      <td>Female</td>\n",
              "      <td>Tier 2</td>\n",
              "      <td>2015</td>\n",
              "      <td>BCA</td>\n",
              "      <td>JR87525</td>\n",
              "      <td>English</td>\n",
              "      <td>5</td>\n",
              "      <td>Married</td>\n",
              "      <td>16</td>\n",
              "      <td>6</td>\n",
              "    </tr>\n",
              "    <tr>\n",
              "      <th>4</th>\n",
              "      <td>25</td>\n",
              "      <td>DegreeBranch</td>\n",
              "      <td>24</td>\n",
              "      <td>Enterprise</td>\n",
              "      <td>SDE</td>\n",
              "      <td>Computer Science</td>\n",
              "      <td>Engineering</td>\n",
              "      <td>5936</td>\n",
              "      <td>George</td>\n",
              "      <td>5</td>\n",
              "      <td>32</td>\n",
              "      <td>86.34</td>\n",
              "      <td>Male</td>\n",
              "      <td>Tier 3</td>\n",
              "      <td>2019</td>\n",
              "      <td>Dual M.Tech</td>\n",
              "      <td>JR70175</td>\n",
              "      <td>English</td>\n",
              "      <td>8</td>\n",
              "      <td>Married</td>\n",
              "      <td>10</td>\n",
              "      <td>2</td>\n",
              "    </tr>\n",
              "    <tr>\n",
              "      <th>...</th>\n",
              "      <td>...</td>\n",
              "      <td>...</td>\n",
              "      <td>...</td>\n",
              "      <td>...</td>\n",
              "      <td>...</td>\n",
              "      <td>...</td>\n",
              "      <td>...</td>\n",
              "      <td>...</td>\n",
              "      <td>...</td>\n",
              "      <td>...</td>\n",
              "      <td>...</td>\n",
              "      <td>...</td>\n",
              "      <td>...</td>\n",
              "      <td>...</td>\n",
              "      <td>...</td>\n",
              "      <td>...</td>\n",
              "      <td>...</td>\n",
              "      <td>...</td>\n",
              "      <td>...</td>\n",
              "      <td>...</td>\n",
              "      <td>...</td>\n",
              "      <td>...</td>\n",
              "    </tr>\n",
              "    <tr>\n",
              "      <th>8740</th>\n",
              "      <td>26</td>\n",
              "      <td>NaN</td>\n",
              "      <td>29</td>\n",
              "      <td>Startup</td>\n",
              "      <td>SDE</td>\n",
              "      <td>Computer Science</td>\n",
              "      <td>Design</td>\n",
              "      <td>14758</td>\n",
              "      <td>Matt</td>\n",
              "      <td>5</td>\n",
              "      <td>38</td>\n",
              "      <td>NaN</td>\n",
              "      <td>Female</td>\n",
              "      <td>Tier 1</td>\n",
              "      <td>2018</td>\n",
              "      <td>B.Tech</td>\n",
              "      <td>JR85289</td>\n",
              "      <td>English</td>\n",
              "      <td>10</td>\n",
              "      <td>Married</td>\n",
              "      <td>10</td>\n",
              "      <td>3</td>\n",
              "    </tr>\n",
              "    <tr>\n",
              "      <th>8741</th>\n",
              "      <td>27</td>\n",
              "      <td>NaN</td>\n",
              "      <td>18</td>\n",
              "      <td>Startup</td>\n",
              "      <td>BA</td>\n",
              "      <td>Electrical</td>\n",
              "      <td>Design</td>\n",
              "      <td>23544</td>\n",
              "      <td>Salvatore</td>\n",
              "      <td>4</td>\n",
              "      <td>26</td>\n",
              "      <td>NaN</td>\n",
              "      <td>Male</td>\n",
              "      <td>Tier 1</td>\n",
              "      <td>2020</td>\n",
              "      <td>MS</td>\n",
              "      <td>JR85289</td>\n",
              "      <td>Hindi</td>\n",
              "      <td>10</td>\n",
              "      <td>Married</td>\n",
              "      <td>19</td>\n",
              "      <td>1</td>\n",
              "    </tr>\n",
              "    <tr>\n",
              "      <th>8742</th>\n",
              "      <td>27</td>\n",
              "      <td>NaN</td>\n",
              "      <td>7</td>\n",
              "      <td>Startup</td>\n",
              "      <td>SDE</td>\n",
              "      <td>Computer Science</td>\n",
              "      <td>Engineering</td>\n",
              "      <td>16175</td>\n",
              "      <td>Adrian</td>\n",
              "      <td>4</td>\n",
              "      <td>17</td>\n",
              "      <td>NaN</td>\n",
              "      <td>Male</td>\n",
              "      <td>Tier 2</td>\n",
              "      <td>2017</td>\n",
              "      <td>B.Tech</td>\n",
              "      <td>JR85289</td>\n",
              "      <td>English</td>\n",
              "      <td>7</td>\n",
              "      <td>Married</td>\n",
              "      <td>12</td>\n",
              "      <td>4</td>\n",
              "    </tr>\n",
              "    <tr>\n",
              "      <th>8743</th>\n",
              "      <td>33</td>\n",
              "      <td>NaN</td>\n",
              "      <td>8</td>\n",
              "      <td>Enterprise</td>\n",
              "      <td>SSE</td>\n",
              "      <td>Electrical and Electronics</td>\n",
              "      <td>Design</td>\n",
              "      <td>18458</td>\n",
              "      <td>Ambrose</td>\n",
              "      <td>4</td>\n",
              "      <td>18</td>\n",
              "      <td>NaN</td>\n",
              "      <td>Male</td>\n",
              "      <td>Tier 1</td>\n",
              "      <td>2014</td>\n",
              "      <td>MS</td>\n",
              "      <td>JR79193</td>\n",
              "      <td>English</td>\n",
              "      <td>7</td>\n",
              "      <td>Married</td>\n",
              "      <td>10</td>\n",
              "      <td>7</td>\n",
              "    </tr>\n",
              "    <tr>\n",
              "      <th>8744</th>\n",
              "      <td>26</td>\n",
              "      <td>NaN</td>\n",
              "      <td>29</td>\n",
              "      <td>Startup</td>\n",
              "      <td>SDE</td>\n",
              "      <td>Information Technology</td>\n",
              "      <td>Engineering</td>\n",
              "      <td>10036</td>\n",
              "      <td>Arther</td>\n",
              "      <td>3</td>\n",
              "      <td>34</td>\n",
              "      <td>NaN</td>\n",
              "      <td>Other</td>\n",
              "      <td>Tier 2</td>\n",
              "      <td>2018</td>\n",
              "      <td>Dual M.Tech</td>\n",
              "      <td>JR89890</td>\n",
              "      <td>Native</td>\n",
              "      <td>9</td>\n",
              "      <td>Single</td>\n",
              "      <td>10</td>\n",
              "      <td>3</td>\n",
              "    </tr>\n",
              "  </tbody>\n",
              "</table>\n",
              "<p>22390 rows × 22 columns</p>\n",
              "</div>"
            ],
            "text/plain": [
              "      Age BiasInfluentialFactor  ...  TotalLeavesTaken YearsOfExperince\n",
              "0      35      YearsOfExperince  ...                20               12\n",
              "1      26                   NaN  ...                 6                3\n",
              "2      36                Gender  ...                19                6\n",
              "3      29                Gender  ...                16                6\n",
              "4      25          DegreeBranch  ...                10                2\n",
              "...   ...                   ...  ...               ...              ...\n",
              "8740   26                   NaN  ...                10                3\n",
              "8741   27                   NaN  ...                19                1\n",
              "8742   27                   NaN  ...                12                4\n",
              "8743   33                   NaN  ...                10                7\n",
              "8744   26                   NaN  ...                10                3\n",
              "\n",
              "[22390 rows x 22 columns]"
            ]
          },
          "metadata": {
            "tags": []
          },
          "execution_count": 17
        }
      ]
    },
    {
      "cell_type": "code",
      "metadata": {
        "id": "OKuMUGfmVC9a"
      },
      "source": [
        "#Importing important libraries and packages\n",
        "import pandas as pd\n",
        "import seaborn as sns\n",
        "import matplotlib.pyplot as plt\n",
        "# from sklearn.preprocessing import\n",
        "from sklearn.preprocessing import StandardScaler,LabelEncoder,MultiLabelBinarizer,LabelBinarizer\n",
        "from sklearn.model_selection import train_test_split,cross_val_score\n"
      ],
      "execution_count": null,
      "outputs": []
    },
    {
      "cell_type": "code",
      "metadata": {
        "id": "mE9tlPLlQSo-"
      },
      "source": [
        "#EmpName column is not going to really help in this model as name doesn't signify anything so i am dropping it.\n",
        "df.drop(columns=['EmpName'],inplace=True)"
      ],
      "execution_count": null,
      "outputs": []
    },
    {
      "cell_type": "code",
      "metadata": {
        "colab": {
          "base_uri": "https://localhost:8080/"
        },
        "id": "LMLX9b9wwoyW",
        "outputId": "7ea1cebb-8090-4f75-8d09-1e49d78dfe61"
      },
      "source": [
        "train.apply(lambda x: sum(x.isnull()))"
      ],
      "execution_count": 96,
      "outputs": [
        {
          "output_type": "execute_result",
          "data": {
            "text/plain": [
              "EmpID                         0\n",
              "EmpName                       0\n",
              "LanguageOfCommunication       0\n",
              "Age                           0\n",
              "Gender                        0\n",
              "JobProfileIDApplyingFor       0\n",
              "HighestDegree                 0\n",
              "DegreeBranch                  0\n",
              "GraduatingInstitute           0\n",
              "LatestDegreeCGPA              0\n",
              "YearsOfExperince              0\n",
              "GraduationYear                0\n",
              "CurrentCTC                    0\n",
              "ExpectedCTC                   0\n",
              "MartialStatus                 0\n",
              "EmpScore                      0\n",
              "CurrentDesignation            0\n",
              "CurrentCompanyType            0\n",
              "DepartmentInCompany           0\n",
              "TotalLeavesTaken              0\n",
              "BiasInfluentialFactor      3336\n",
              "FitmentPercent                0\n",
              "dtype: int64"
            ]
          },
          "metadata": {
            "tags": []
          },
          "execution_count": 96
        }
      ]
    },
    {
      "cell_type": "code",
      "metadata": {
        "colab": {
          "base_uri": "https://localhost:8080/"
        },
        "id": "tucbA-GGQVVp",
        "outputId": "5f6dc43e-672f-4a33-e0d0-29e3ec92cc3f"
      },
      "source": [
        "train['BiasInfluentialFactor'].value_counts()"
      ],
      "execution_count": 97,
      "outputs": [
        {
          "output_type": "execute_result",
          "data": {
            "text/plain": [
              "DegreeBranch          2858\n",
              "Gender                2605\n",
              "YearsOfExperince      1561\n",
              "CurrentCompanyType    1174\n",
              "EmpScore               659\n",
              "HighestDegree          582\n",
              "Ethinicity             328\n",
              "MartialStatus          280\n",
              "LatestDegreeCGPA       262\n",
              "Name: BiasInfluentialFactor, dtype: int64"
            ]
          },
          "metadata": {
            "tags": []
          },
          "execution_count": 97
        }
      ]
    },
    {
      "cell_type": "code",
      "metadata": {
        "id": "qCPkakU9wsgJ"
      },
      "source": [
        "#BiasInfluentialFactor is a important feature and it has some missing values \n",
        "# Imputation of missing value with the largest number of values in the dataset i.e \"Degree Branch\"\n",
        "train['BiasInfluentialFactor'].fillna('DegreeBranch',inplace=True)"
      ],
      "execution_count": 98,
      "outputs": []
    },
    {
      "cell_type": "code",
      "metadata": {
        "colab": {
          "base_uri": "https://localhost:8080/"
        },
        "id": "oOKaK-LZQ-ca",
        "outputId": "a5042a51-3828-41e3-abc4-bac92033cd66"
      },
      "source": [
        "train['BiasInfluentialFactor'].isna().sum()"
      ],
      "execution_count": 99,
      "outputs": [
        {
          "output_type": "execute_result",
          "data": {
            "text/plain": [
              "0"
            ]
          },
          "metadata": {
            "tags": []
          },
          "execution_count": 99
        }
      ]
    },
    {
      "cell_type": "code",
      "metadata": {
        "id": "zY3Toc2ARZu4",
        "colab": {
          "base_uri": "https://localhost:8080/"
        },
        "outputId": "415ecbe9-ab2a-4b91-c871-cff5eac308b6"
      },
      "source": [
        "train['BiasInfluentialFactor'].value_counts()"
      ],
      "execution_count": 100,
      "outputs": [
        {
          "output_type": "execute_result",
          "data": {
            "text/plain": [
              "DegreeBranch          6194\n",
              "Gender                2605\n",
              "YearsOfExperince      1561\n",
              "CurrentCompanyType    1174\n",
              "EmpScore               659\n",
              "HighestDegree          582\n",
              "Ethinicity             328\n",
              "MartialStatus          280\n",
              "LatestDegreeCGPA       262\n",
              "Name: BiasInfluentialFactor, dtype: int64"
            ]
          },
          "metadata": {
            "tags": []
          },
          "execution_count": 100
        }
      ]
    },
    {
      "cell_type": "code",
      "metadata": {
        "colab": {
          "base_uri": "https://localhost:8080/"
        },
        "id": "Guk5LSX1PdDZ",
        "outputId": "4fa8bfe9-647e-4a0f-a6f5-93b795166d64"
      },
      "source": [
        "train['EmpScore'].value_counts()\n"
      ],
      "execution_count": 101,
      "outputs": [
        {
          "output_type": "execute_result",
          "data": {
            "text/plain": [
              "3    5462\n",
              "4    4184\n",
              "5    2025\n",
              "2    1064\n",
              "1     910\n",
              "Name: EmpScore, dtype: int64"
            ]
          },
          "metadata": {
            "tags": []
          },
          "execution_count": 101
        }
      ]
    },
    {
      "cell_type": "code",
      "metadata": {
        "colab": {
          "base_uri": "https://localhost:8080/"
        },
        "id": "Qb6-s8FFPlgx",
        "outputId": "d323de3a-05c7-49c8-da12-f55df8dcb8a0"
      },
      "source": [
        "train['CurrentDesignation'].value_counts()"
      ],
      "execution_count": 102,
      "outputs": [
        {
          "output_type": "execute_result",
          "data": {
            "text/plain": [
              "SDE    5423\n",
              "SSE    2745\n",
              "DS     1716\n",
              "BA     1710\n",
              "EM     1342\n",
              "SEM     287\n",
              "DA      287\n",
              "DE      135\n",
              "Name: CurrentDesignation, dtype: int64"
            ]
          },
          "metadata": {
            "tags": []
          },
          "execution_count": 102
        }
      ]
    },
    {
      "cell_type": "code",
      "metadata": {
        "id": "UIzawZAzUJ83",
        "colab": {
          "base_uri": "https://localhost:8080/",
          "height": 309
        },
        "outputId": "88ab08dd-cf53-4432-f222-a454042be034"
      },
      "source": [
        "test.head()"
      ],
      "execution_count": 103,
      "outputs": [
        {
          "output_type": "execute_result",
          "data": {
            "text/html": [
              "<div>\n",
              "<style scoped>\n",
              "    .dataframe tbody tr th:only-of-type {\n",
              "        vertical-align: middle;\n",
              "    }\n",
              "\n",
              "    .dataframe tbody tr th {\n",
              "        vertical-align: top;\n",
              "    }\n",
              "\n",
              "    .dataframe thead th {\n",
              "        text-align: right;\n",
              "    }\n",
              "</style>\n",
              "<table border=\"1\" class=\"dataframe\">\n",
              "  <thead>\n",
              "    <tr style=\"text-align: right;\">\n",
              "      <th></th>\n",
              "      <th>EmpID</th>\n",
              "      <th>EmpName</th>\n",
              "      <th>LanguageOfCommunication</th>\n",
              "      <th>Age</th>\n",
              "      <th>Gender</th>\n",
              "      <th>JobProfileIDApplyingFor</th>\n",
              "      <th>HighestDegree</th>\n",
              "      <th>DegreeBranch</th>\n",
              "      <th>GraduatingInstitute</th>\n",
              "      <th>LatestDegreeCGPA</th>\n",
              "      <th>YearsOfExperince</th>\n",
              "      <th>GraduationYear</th>\n",
              "      <th>CurrentCTC</th>\n",
              "      <th>ExpectedCTC</th>\n",
              "      <th>MartialStatus</th>\n",
              "      <th>EmpScore</th>\n",
              "      <th>CurrentDesignation</th>\n",
              "      <th>CurrentCompanyType</th>\n",
              "      <th>DepartmentInCompany</th>\n",
              "      <th>TotalLeavesTaken</th>\n",
              "    </tr>\n",
              "  </thead>\n",
              "  <tbody>\n",
              "    <tr>\n",
              "      <th>0</th>\n",
              "      <td>5664</td>\n",
              "      <td>Theo</td>\n",
              "      <td>Native</td>\n",
              "      <td>35</td>\n",
              "      <td>Male</td>\n",
              "      <td>JR85289</td>\n",
              "      <td>PhD</td>\n",
              "      <td>Information Technology</td>\n",
              "      <td>Tier 2</td>\n",
              "      <td>5</td>\n",
              "      <td>5</td>\n",
              "      <td>2016</td>\n",
              "      <td>27</td>\n",
              "      <td>34</td>\n",
              "      <td>Single</td>\n",
              "      <td>4</td>\n",
              "      <td>SDE</td>\n",
              "      <td>Enterprise</td>\n",
              "      <td>Finance</td>\n",
              "      <td>18</td>\n",
              "    </tr>\n",
              "    <tr>\n",
              "      <th>1</th>\n",
              "      <td>23568</td>\n",
              "      <td>Vernie</td>\n",
              "      <td>English</td>\n",
              "      <td>35</td>\n",
              "      <td>Male</td>\n",
              "      <td>JR85289</td>\n",
              "      <td>B.Tech</td>\n",
              "      <td>Information Technology</td>\n",
              "      <td>Tier 3</td>\n",
              "      <td>9</td>\n",
              "      <td>12</td>\n",
              "      <td>2009</td>\n",
              "      <td>29</td>\n",
              "      <td>33</td>\n",
              "      <td>Married</td>\n",
              "      <td>4</td>\n",
              "      <td>EM</td>\n",
              "      <td>Enterprise</td>\n",
              "      <td>Engineering</td>\n",
              "      <td>8</td>\n",
              "    </tr>\n",
              "    <tr>\n",
              "      <th>2</th>\n",
              "      <td>21490</td>\n",
              "      <td>Wendell</td>\n",
              "      <td>English</td>\n",
              "      <td>28</td>\n",
              "      <td>Male</td>\n",
              "      <td>JR87525</td>\n",
              "      <td>M.Tech</td>\n",
              "      <td>Artificial Intelligence</td>\n",
              "      <td>Tier 2</td>\n",
              "      <td>9</td>\n",
              "      <td>2</td>\n",
              "      <td>2019</td>\n",
              "      <td>18</td>\n",
              "      <td>25</td>\n",
              "      <td>Married</td>\n",
              "      <td>3</td>\n",
              "      <td>SDE</td>\n",
              "      <td>Startup</td>\n",
              "      <td>Engineering</td>\n",
              "      <td>18</td>\n",
              "    </tr>\n",
              "    <tr>\n",
              "      <th>3</th>\n",
              "      <td>8363</td>\n",
              "      <td>West</td>\n",
              "      <td>Hindi</td>\n",
              "      <td>37</td>\n",
              "      <td>Male</td>\n",
              "      <td>JR87525</td>\n",
              "      <td>MS</td>\n",
              "      <td>Computer Science</td>\n",
              "      <td>Tier 2</td>\n",
              "      <td>8</td>\n",
              "      <td>11</td>\n",
              "      <td>2010</td>\n",
              "      <td>7</td>\n",
              "      <td>12</td>\n",
              "      <td>Single</td>\n",
              "      <td>5</td>\n",
              "      <td>DS</td>\n",
              "      <td>Enterprise</td>\n",
              "      <td>Product</td>\n",
              "      <td>17</td>\n",
              "    </tr>\n",
              "    <tr>\n",
              "      <th>4</th>\n",
              "      <td>6165</td>\n",
              "      <td>Alford</td>\n",
              "      <td>Hindi</td>\n",
              "      <td>36</td>\n",
              "      <td>Female</td>\n",
              "      <td>JR85289</td>\n",
              "      <td>PhD</td>\n",
              "      <td>Artificial Intelligence</td>\n",
              "      <td>Tier 2</td>\n",
              "      <td>7</td>\n",
              "      <td>6</td>\n",
              "      <td>2015</td>\n",
              "      <td>22</td>\n",
              "      <td>32</td>\n",
              "      <td>Married</td>\n",
              "      <td>4</td>\n",
              "      <td>SDE</td>\n",
              "      <td>Startup</td>\n",
              "      <td>Engineering</td>\n",
              "      <td>9</td>\n",
              "    </tr>\n",
              "  </tbody>\n",
              "</table>\n",
              "</div>"
            ],
            "text/plain": [
              "   EmpID  EmpName LanguageOfCommunication  Age  Gender  \\\n",
              "0   5664     Theo                  Native   35    Male   \n",
              "1  23568   Vernie                 English   35    Male   \n",
              "2  21490  Wendell                 English   28    Male   \n",
              "3   8363     West                   Hindi   37    Male   \n",
              "4   6165   Alford                   Hindi   36  Female   \n",
              "\n",
              "  JobProfileIDApplyingFor HighestDegree             DegreeBranch  \\\n",
              "0                 JR85289           PhD   Information Technology   \n",
              "1                 JR85289        B.Tech   Information Technology   \n",
              "2                 JR87525        M.Tech  Artificial Intelligence   \n",
              "3                 JR87525            MS         Computer Science   \n",
              "4                 JR85289           PhD  Artificial Intelligence   \n",
              "\n",
              "  GraduatingInstitute  LatestDegreeCGPA  YearsOfExperince  GraduationYear  \\\n",
              "0              Tier 2                 5                 5            2016   \n",
              "1              Tier 3                 9                12            2009   \n",
              "2              Tier 2                 9                 2            2019   \n",
              "3              Tier 2                 8                11            2010   \n",
              "4              Tier 2                 7                 6            2015   \n",
              "\n",
              "   CurrentCTC  ExpectedCTC MartialStatus  EmpScore CurrentDesignation  \\\n",
              "0          27           34        Single         4                SDE   \n",
              "1          29           33       Married         4                 EM   \n",
              "2          18           25       Married         3                SDE   \n",
              "3           7           12        Single         5                 DS   \n",
              "4          22           32       Married         4                SDE   \n",
              "\n",
              "  CurrentCompanyType DepartmentInCompany  TotalLeavesTaken  \n",
              "0         Enterprise             Finance                18  \n",
              "1         Enterprise         Engineering                 8  \n",
              "2            Startup         Engineering                18  \n",
              "3         Enterprise             Product                17  \n",
              "4            Startup         Engineering                 9  "
            ]
          },
          "metadata": {
            "tags": []
          },
          "execution_count": 103
        }
      ]
    },
    {
      "cell_type": "code",
      "metadata": {
        "colab": {
          "base_uri": "https://localhost:8080/"
        },
        "id": "y7RPrE2dGdMW",
        "outputId": "07f81738-7c95-4420-e4a2-6ee9d6ab74da"
      },
      "source": [
        "train['LanguageOfCommunication'].value_counts()"
      ],
      "execution_count": 104,
      "outputs": [
        {
          "output_type": "execute_result",
          "data": {
            "text/plain": [
              "English    7510\n",
              "Hindi      4733\n",
              "Native     1402\n",
              "Name: LanguageOfCommunication, dtype: int64"
            ]
          },
          "metadata": {
            "tags": []
          },
          "execution_count": 104
        }
      ]
    },
    {
      "cell_type": "code",
      "metadata": {
        "colab": {
          "base_uri": "https://localhost:8080/"
        },
        "id": "en-ZrcwFKeCK",
        "outputId": "f699339c-dbdc-49f7-cf8d-023fc72fbd42"
      },
      "source": [
        "train['JobProfileIDApplyingFor'].value_counts()"
      ],
      "execution_count": 106,
      "outputs": [
        {
          "output_type": "execute_result",
          "data": {
            "text/plain": [
              "JR85289    4697\n",
              "JR87525    3416\n",
              "JR88879    1231\n",
              "JR89890    1157\n",
              "JR88873    1123\n",
              "JR81165     681\n",
              "JR79193     678\n",
              "JR88654     420\n",
              "JR70175     242\n",
              "Name: JobProfileIDApplyingFor, dtype: int64"
            ]
          },
          "metadata": {
            "tags": []
          },
          "execution_count": 106
        }
      ]
    },
    {
      "cell_type": "code",
      "metadata": {
        "colab": {
          "base_uri": "https://localhost:8080/"
        },
        "id": "jhykQK8BG4hv",
        "outputId": "16e128bd-e7da-48a3-af9b-3ea43a99d1d3"
      },
      "source": [
        "train.dtypes"
      ],
      "execution_count": 105,
      "outputs": [
        {
          "output_type": "execute_result",
          "data": {
            "text/plain": [
              "EmpID                        int64\n",
              "EmpName                     object\n",
              "LanguageOfCommunication     object\n",
              "Age                          int64\n",
              "Gender                      object\n",
              "JobProfileIDApplyingFor     object\n",
              "HighestDegree               object\n",
              "DegreeBranch                object\n",
              "GraduatingInstitute         object\n",
              "LatestDegreeCGPA             int64\n",
              "YearsOfExperince             int64\n",
              "GraduationYear               int64\n",
              "CurrentCTC                   int64\n",
              "ExpectedCTC                  int64\n",
              "MartialStatus               object\n",
              "EmpScore                     int64\n",
              "CurrentDesignation          object\n",
              "CurrentCompanyType          object\n",
              "DepartmentInCompany         object\n",
              "TotalLeavesTaken             int64\n",
              "BiasInfluentialFactor       object\n",
              "FitmentPercent             float64\n",
              "dtype: object"
            ]
          },
          "metadata": {
            "tags": []
          },
          "execution_count": 105
        }
      ]
    },
    {
      "cell_type": "code",
      "metadata": {
        "id": "0tXFaZGtG_CR"
      },
      "source": [
        "#Feature Engineering\n",
        "#Label encoding of Categorical variables\n",
        "from sklearn.preprocessing import LabelEncoder\n",
        "\n",
        "number = LabelEncoder()\n",
        "train['Gender'] = number.fit_transform(train['Gender'].astype('str'))\n",
        "test['Gender']= number.fit_transform(test['Gender'].astype('str'))"
      ],
      "execution_count": 107,
      "outputs": []
    },
    {
      "cell_type": "code",
      "metadata": {
        "colab": {
          "base_uri": "https://localhost:8080/"
        },
        "id": "226ci3gZHVci",
        "outputId": "16ced452-6b37-4d55-f825-8d1aaac81983"
      },
      "source": [
        "train['Gender'].value_counts()"
      ],
      "execution_count": 108,
      "outputs": [
        {
          "output_type": "execute_result",
          "data": {
            "text/plain": [
              "1    8376\n",
              "0    4326\n",
              "2     943\n",
              "Name: Gender, dtype: int64"
            ]
          },
          "metadata": {
            "tags": []
          },
          "execution_count": 108
        }
      ]
    },
    {
      "cell_type": "code",
      "metadata": {
        "id": "L5bhEj4zHjUD"
      },
      "source": [
        "train['LanguageOfCommunication']=number.fit_transform(train['LanguageOfCommunication'].astype('str'))\n",
        "test['LanguageOfCommunication']=number.fit_transform(test['LanguageOfCommunication'].astype('str'))"
      ],
      "execution_count": 109,
      "outputs": []
    },
    {
      "cell_type": "code",
      "metadata": {
        "colab": {
          "base_uri": "https://localhost:8080/"
        },
        "id": "2wYjI_9sH8y6",
        "outputId": "7d3921ce-f21f-4f5c-a4f5-ea57716a3e7b"
      },
      "source": [
        "test['LanguageOfCommunication'].value_counts()"
      ],
      "execution_count": 110,
      "outputs": [
        {
          "output_type": "execute_result",
          "data": {
            "text/plain": [
              "0    4771\n",
              "1    3088\n",
              "2     886\n",
              "Name: LanguageOfCommunication, dtype: int64"
            ]
          },
          "metadata": {
            "tags": []
          },
          "execution_count": 110
        }
      ]
    },
    {
      "cell_type": "code",
      "metadata": {
        "id": "pzMVZoPUKoE9"
      },
      "source": [
        "train['JobProfileIDApplyingFor'] = number.fit_transform(train['JobProfileIDApplyingFor'].astype('str'))\n",
        "test['JobProfileIDApplyingFor']= number.fit_transform(test['JobProfileIDApplyingFor'].astype('str'))"
      ],
      "execution_count": 111,
      "outputs": []
    },
    {
      "cell_type": "code",
      "metadata": {
        "colab": {
          "base_uri": "https://localhost:8080/"
        },
        "id": "NdgY8i2kK3lg",
        "outputId": "d693e9d9-336e-4825-beaa-33e30cb274fe"
      },
      "source": [
        "train['JobProfileIDApplyingFor'].value_counts()"
      ],
      "execution_count": 112,
      "outputs": [
        {
          "output_type": "execute_result",
          "data": {
            "text/plain": [
              "3    4697\n",
              "4    3416\n",
              "7    1231\n",
              "8    1157\n",
              "6    1123\n",
              "2     681\n",
              "1     678\n",
              "5     420\n",
              "0     242\n",
              "Name: JobProfileIDApplyingFor, dtype: int64"
            ]
          },
          "metadata": {
            "tags": []
          },
          "execution_count": 112
        }
      ]
    },
    {
      "cell_type": "code",
      "metadata": {
        "id": "EHVhNcX-K78Z"
      },
      "source": [
        "train['HighestDegree'] = number.fit_transform(train['HighestDegree'].astype('str'))\n",
        "test['HighestDegree']= number.fit_transform(test['HighestDegree'].astype('str'))"
      ],
      "execution_count": 113,
      "outputs": []
    },
    {
      "cell_type": "code",
      "metadata": {
        "colab": {
          "base_uri": "https://localhost:8080/"
        },
        "id": "YyvVamOeLKn6",
        "outputId": "66524732-83a5-4774-a7d4-d393d00b11e1"
      },
      "source": [
        "train['HighestDegree'].value_counts()"
      ],
      "execution_count": 114,
      "outputs": [
        {
          "output_type": "execute_result",
          "data": {
            "text/plain": [
              "0    5619\n",
              "4    2026\n",
              "1    1634\n",
              "6    1579\n",
              "2    1358\n",
              "3     665\n",
              "7     624\n",
              "5     140\n",
              "Name: HighestDegree, dtype: int64"
            ]
          },
          "metadata": {
            "tags": []
          },
          "execution_count": 114
        }
      ]
    },
    {
      "cell_type": "code",
      "metadata": {
        "id": "e-smwu4RLR1G"
      },
      "source": [
        "train['DegreeBranch'] = number.fit_transform(train['DegreeBranch'].astype('str'))\n",
        "test['DegreeBranch']= number.fit_transform(test['DegreeBranch'].astype('str'))"
      ],
      "execution_count": 115,
      "outputs": []
    },
    {
      "cell_type": "code",
      "metadata": {
        "colab": {
          "base_uri": "https://localhost:8080/"
        },
        "id": "EUecrmT2Lf9q",
        "outputId": "f582d079-b64e-4085-dcdd-383aaa730b8f"
      },
      "source": [
        "train['DegreeBranch'].value_counts()"
      ],
      "execution_count": 116,
      "outputs": [
        {
          "output_type": "execute_result",
          "data": {
            "text/plain": [
              "1    4749\n",
              "5    2993\n",
              "0    2001\n",
              "2    1803\n",
              "4    1699\n",
              "3     400\n",
              "Name: DegreeBranch, dtype: int64"
            ]
          },
          "metadata": {
            "tags": []
          },
          "execution_count": 116
        }
      ]
    },
    {
      "cell_type": "code",
      "metadata": {
        "colab": {
          "base_uri": "https://localhost:8080/"
        },
        "id": "jSkjtEDiLoD9",
        "outputId": "1af0c5e9-11f6-43cb-e320-79c2987db5e9"
      },
      "source": [
        "train['GraduatingInstitute'] = number.fit_transform(train['GraduatingInstitute'].astype('str'))\n",
        "test['GraduatingInstitute']= number.fit_transform(test['GraduatingInstitute'].astype('str'))\n",
        "\n",
        "train['GraduatingInstitute'].value_counts()\n"
      ],
      "execution_count": 117,
      "outputs": [
        {
          "output_type": "execute_result",
          "data": {
            "text/plain": [
              "1    6092\n",
              "0    4793\n",
              "2    2760\n",
              "Name: GraduatingInstitute, dtype: int64"
            ]
          },
          "metadata": {
            "tags": []
          },
          "execution_count": 117
        }
      ]
    },
    {
      "cell_type": "code",
      "metadata": {
        "colab": {
          "base_uri": "https://localhost:8080/"
        },
        "id": "XqVsqno8MYWO",
        "outputId": "496f3ae8-169e-4a51-db5e-873adac45694"
      },
      "source": [
        "train['LatestDegreeCGPA'].value_counts()"
      ],
      "execution_count": 118,
      "outputs": [
        {
          "output_type": "execute_result",
          "data": {
            "text/plain": [
              "7     4738\n",
              "8     3480\n",
              "6     1779\n",
              "9     1554\n",
              "5     1089\n",
              "4      713\n",
              "10     292\n",
              "Name: LatestDegreeCGPA, dtype: int64"
            ]
          },
          "metadata": {
            "tags": []
          },
          "execution_count": 118
        }
      ]
    },
    {
      "cell_type": "code",
      "metadata": {
        "colab": {
          "base_uri": "https://localhost:8080/"
        },
        "id": "TihI5PMcNp2Z",
        "outputId": "01bbcb2d-5b5e-437d-e9c3-47f3d0b2983d"
      },
      "source": [
        "train['MartialStatus'].value_counts()"
      ],
      "execution_count": 119,
      "outputs": [
        {
          "output_type": "execute_result",
          "data": {
            "text/plain": [
              "Married    9810\n",
              "Single     3835\n",
              "Name: MartialStatus, dtype: int64"
            ]
          },
          "metadata": {
            "tags": []
          },
          "execution_count": 119
        }
      ]
    },
    {
      "cell_type": "code",
      "metadata": {
        "id": "qlpNxO5tNhCB"
      },
      "source": [
        "train['MartialStatus'] = number.fit_transform(train['MartialStatus'].astype('str'))\n",
        "test['MartialStatus']= number.fit_transform(test['MartialStatus'].astype('str'))"
      ],
      "execution_count": 120,
      "outputs": []
    },
    {
      "cell_type": "code",
      "metadata": {
        "colab": {
          "base_uri": "https://localhost:8080/"
        },
        "id": "j9zuXw1FMEi-",
        "outputId": "25ab0409-73c4-42b4-e496-87ddf164d20b"
      },
      "source": [
        "train['MartialStatus'].value_counts()"
      ],
      "execution_count": 121,
      "outputs": [
        {
          "output_type": "execute_result",
          "data": {
            "text/plain": [
              "0    9810\n",
              "1    3835\n",
              "Name: MartialStatus, dtype: int64"
            ]
          },
          "metadata": {
            "tags": []
          },
          "execution_count": 121
        }
      ]
    },
    {
      "cell_type": "code",
      "metadata": {
        "id": "hnAqzaD1O5tj"
      },
      "source": [
        "train['CurrentDesignation'] = number.fit_transform(train['CurrentDesignation'].astype('str'))\n",
        "test['CurrentDesignation']= number.fit_transform(test['CurrentDesignation'].astype('str'))"
      ],
      "execution_count": 122,
      "outputs": []
    },
    {
      "cell_type": "code",
      "metadata": {
        "colab": {
          "base_uri": "https://localhost:8080/"
        },
        "id": "fn8msf4ZQWVe",
        "outputId": "594382e3-2f40-4407-945f-9450aef0f346"
      },
      "source": [
        "train['CurrentDesignation'].value_counts()"
      ],
      "execution_count": 123,
      "outputs": [
        {
          "output_type": "execute_result",
          "data": {
            "text/plain": [
              "5    5423\n",
              "7    2745\n",
              "3    1716\n",
              "0    1710\n",
              "4    1342\n",
              "6     287\n",
              "1     287\n",
              "2     135\n",
              "Name: CurrentDesignation, dtype: int64"
            ]
          },
          "metadata": {
            "tags": []
          },
          "execution_count": 123
        }
      ]
    },
    {
      "cell_type": "code",
      "metadata": {
        "id": "wMk_zibBQp6W"
      },
      "source": [
        "train['CurrentCompanyType'] = number.fit_transform(train['CurrentCompanyType'].astype('str'))\n",
        "test['CurrentCompanyType']= number.fit_transform(test['CurrentCompanyType'].astype('str'))"
      ],
      "execution_count": 124,
      "outputs": []
    },
    {
      "cell_type": "code",
      "metadata": {
        "colab": {
          "base_uri": "https://localhost:8080/"
        },
        "id": "poxcxJQRQ_TU",
        "outputId": "0fc0e26c-0e22-48d2-d8e8-b30178e2111b"
      },
      "source": [
        "train['CurrentCompanyType'].value_counts()"
      ],
      "execution_count": 125,
      "outputs": [
        {
          "output_type": "execute_result",
          "data": {
            "text/plain": [
              "2    6373\n",
              "0    4395\n",
              "1    2877\n",
              "Name: CurrentCompanyType, dtype: int64"
            ]
          },
          "metadata": {
            "tags": []
          },
          "execution_count": 125
        }
      ]
    },
    {
      "cell_type": "code",
      "metadata": {
        "colab": {
          "base_uri": "https://localhost:8080/"
        },
        "id": "xsENdPtwRnl4",
        "outputId": "8daff9d5-a41d-4347-9fcc-52ac36e21947"
      },
      "source": [
        "train['DepartmentInCompany'].value_counts()"
      ],
      "execution_count": 126,
      "outputs": [
        {
          "output_type": "execute_result",
          "data": {
            "text/plain": [
              "Engineering         5749\n",
              "Design              4393\n",
              "Customer Success    1570\n",
              "Product             1232\n",
              "Finance              701\n",
              "Name: DepartmentInCompany, dtype: int64"
            ]
          },
          "metadata": {
            "tags": []
          },
          "execution_count": 126
        }
      ]
    },
    {
      "cell_type": "code",
      "metadata": {
        "id": "6cDidt3pSz4u"
      },
      "source": [
        "train['DepartmentInCompany'] = number.fit_transform(train['DepartmentInCompany'].astype('str'))\n",
        "test['DepartmentInCompany']= number.fit_transform(test['DepartmentInCompany'].astype('str'))"
      ],
      "execution_count": 127,
      "outputs": []
    },
    {
      "cell_type": "code",
      "metadata": {
        "id": "Dhq3sSueTquX"
      },
      "source": [
        "train['BiasInfluentialFactor']=number.fit_transform(train['BiasInfluentialFactor'].astype('str'))"
      ],
      "execution_count": 128,
      "outputs": []
    },
    {
      "cell_type": "code",
      "metadata": {
        "colab": {
          "base_uri": "https://localhost:8080/"
        },
        "id": "tfCK6oB6VLDt",
        "outputId": "a819dc09-70d3-432a-bcc5-cd04a63af7f7"
      },
      "source": [
        "train['BiasInfluentialFactor'].value_counts()\n",
        "#0-CurrentCompanyType\n",
        "#1-DegreeBranch\n",
        "#2-EmpScore\n",
        "#3-Ethinicity\n",
        "#4-Gender\n",
        "#5-HighestDegree\n",
        "#6-LatestDegreeCGPA\n",
        "#7-MartialStatus\n",
        "#8-YearsOfExperience"
      ],
      "execution_count": 129,
      "outputs": [
        {
          "output_type": "execute_result",
          "data": {
            "text/plain": [
              "1    6194\n",
              "4    2605\n",
              "8    1561\n",
              "0    1174\n",
              "2     659\n",
              "5     582\n",
              "3     328\n",
              "7     280\n",
              "6     262\n",
              "Name: BiasInfluentialFactor, dtype: int64"
            ]
          },
          "metadata": {
            "tags": []
          },
          "execution_count": 129
        }
      ]
    },
    {
      "cell_type": "code",
      "metadata": {
        "colab": {
          "base_uri": "https://localhost:8080/"
        },
        "id": "WS8Ij7yVUmQx",
        "outputId": "258ee680-35a2-4434-a958-830565835995"
      },
      "source": [
        "train['TotalLeavesTaken'].value_counts()"
      ],
      "execution_count": 130,
      "outputs": [
        {
          "output_type": "execute_result",
          "data": {
            "text/plain": [
              "11    861\n",
              "6     856\n",
              "13    842\n",
              "4     827\n",
              "12    818\n",
              "20    812\n",
              "14    802\n",
              "19    802\n",
              "10    794\n",
              "18    792\n",
              "9     792\n",
              "8     792\n",
              "5     787\n",
              "15    781\n",
              "17    773\n",
              "16    762\n",
              "7     752\n",
              "Name: TotalLeavesTaken, dtype: int64"
            ]
          },
          "metadata": {
            "tags": []
          },
          "execution_count": 130
        }
      ]
    },
    {
      "cell_type": "code",
      "metadata": {
        "colab": {
          "base_uri": "https://localhost:8080/"
        },
        "id": "98EciwkKVqRo",
        "outputId": "ee6784bc-9746-4638-cf90-7d94a8b9e32e"
      },
      "source": [
        "train.apply(lambda x: sum(x.isnull()))"
      ],
      "execution_count": 131,
      "outputs": [
        {
          "output_type": "execute_result",
          "data": {
            "text/plain": [
              "EmpID                      0\n",
              "EmpName                    0\n",
              "LanguageOfCommunication    0\n",
              "Age                        0\n",
              "Gender                     0\n",
              "JobProfileIDApplyingFor    0\n",
              "HighestDegree              0\n",
              "DegreeBranch               0\n",
              "GraduatingInstitute        0\n",
              "LatestDegreeCGPA           0\n",
              "YearsOfExperince           0\n",
              "GraduationYear             0\n",
              "CurrentCTC                 0\n",
              "ExpectedCTC                0\n",
              "MartialStatus              0\n",
              "EmpScore                   0\n",
              "CurrentDesignation         0\n",
              "CurrentCompanyType         0\n",
              "DepartmentInCompany        0\n",
              "TotalLeavesTaken           0\n",
              "BiasInfluentialFactor      0\n",
              "FitmentPercent             0\n",
              "dtype: int64"
            ]
          },
          "metadata": {
            "tags": []
          },
          "execution_count": 131
        }
      ]
    },
    {
      "cell_type": "code",
      "metadata": {
        "id": "-UkdtnT02BHC"
      },
      "source": [
        "#Importing some more libraries\n",
        "from sklearn import datasets\n",
        "from sklearn.model_selection import train_test_split\n",
        "from sklearn.preprocessing import StandardScaler\n",
        "from sklearn.ensemble import RandomForestClassifier\n",
        "from sklearn.metrics import confusion_matrix\n",
        "from sklearn.pipeline import make_pipeline\n",
        "import matplotlib.pyplot as plt\n",
        "from sklearn.metrics import precision_score"
      ],
      "execution_count": 132,
      "outputs": []
    },
    {
      "cell_type": "code",
      "metadata": {
        "colab": {
          "base_uri": "https://localhost:8080/",
          "height": 333
        },
        "id": "l3k1aa6m2C6-",
        "outputId": "dcfa461c-aebf-40ed-8ec2-53f229b3c8e1"
      },
      "source": [
        "import seaborn as sns\n",
        "import matplotlib.pyplot as plt\n",
        "\n",
        "sns.countplot(train['BiasInfluentialFactor'],label=\"Count\")\n",
        "plt.show()"
      ],
      "execution_count": 133,
      "outputs": [
        {
          "output_type": "stream",
          "text": [
            "/usr/local/lib/python3.7/dist-packages/seaborn/_decorators.py:43: FutureWarning: Pass the following variable as a keyword arg: x. From version 0.12, the only valid positional argument will be `data`, and passing other arguments without an explicit keyword will result in an error or misinterpretation.\n",
            "  FutureWarning\n"
          ],
          "name": "stderr"
        },
        {
          "output_type": "display_data",
          "data": {
            "image/png": "[encoded data removed]",
            "text/plain": [
              "<Figure size 432x288 with 1 Axes>"
            ]
          },
          "metadata": {
            "tags": [],
            "needs_background": "light"
          }
        }
      ]
    },
    {
      "cell_type": "code",
      "metadata": {
        "colab": {
          "base_uri": "https://localhost:8080/"
        },
        "id": "WrHvl4rn4wgl",
        "outputId": "6366b8d4-88fa-47cb-96a2-9dafc4d1ff2a"
      },
      "source": [
        "train.dtypes\n",
        "test.dtypes"
      ],
      "execution_count": 134,
      "outputs": [
        {
          "output_type": "execute_result",
          "data": {
            "text/plain": [
              "EmpID                       int64\n",
              "EmpName                    object\n",
              "LanguageOfCommunication     int64\n",
              "Age                         int64\n",
              "Gender                      int64\n",
              "JobProfileIDApplyingFor     int64\n",
              "HighestDegree               int64\n",
              "DegreeBranch                int64\n",
              "GraduatingInstitute         int64\n",
              "LatestDegreeCGPA            int64\n",
              "YearsOfExperince            int64\n",
              "GraduationYear              int64\n",
              "CurrentCTC                  int64\n",
              "ExpectedCTC                 int64\n",
              "MartialStatus               int64\n",
              "EmpScore                    int64\n",
              "CurrentDesignation          int64\n",
              "CurrentCompanyType          int64\n",
              "DepartmentInCompany         int64\n",
              "TotalLeavesTaken            int64\n",
              "dtype: object"
            ]
          },
          "metadata": {
            "tags": []
          },
          "execution_count": 134
        }
      ]
    },
    {
      "cell_type": "code",
      "metadata": {
        "id": "n_8mrBObY4DH"
      },
      "source": [
        "dependent_variable = 'FitmentPercent'\n",
        "independent_variable = [x for x in train.columns if x not in ['EmpID','EmpName',dependent_variable]]\n"
      ],
      "execution_count": 135,
      "outputs": []
    },
    {
      "cell_type": "code",
      "metadata": {
        "colab": {
          "base_uri": "https://localhost:8080/"
        },
        "id": "_AkHy9Cm7uPs",
        "outputId": "0eaea9a1-72e5-441f-abe8-19d260b7fe08"
      },
      "source": [
        "test.apply(lambda x: sum(x.isnull()))"
      ],
      "execution_count": 136,
      "outputs": [
        {
          "output_type": "execute_result",
          "data": {
            "text/plain": [
              "EmpID                      0\n",
              "EmpName                    0\n",
              "LanguageOfCommunication    0\n",
              "Age                        0\n",
              "Gender                     0\n",
              "JobProfileIDApplyingFor    0\n",
              "HighestDegree              0\n",
              "DegreeBranch               0\n",
              "GraduatingInstitute        0\n",
              "LatestDegreeCGPA           0\n",
              "YearsOfExperince           0\n",
              "GraduationYear             0\n",
              "CurrentCTC                 0\n",
              "ExpectedCTC                0\n",
              "MartialStatus              0\n",
              "EmpScore                   0\n",
              "CurrentDesignation         0\n",
              "CurrentCompanyType         0\n",
              "DepartmentInCompany        0\n",
              "TotalLeavesTaken           0\n",
              "dtype: int64"
            ]
          },
          "metadata": {
            "tags": []
          },
          "execution_count": 136
        }
      ]
    },
    {
      "cell_type": "code",
      "metadata": {
        "id": "XcxaShgtAH31"
      },
      "source": [
        "#Model:- RandomForestRegressor for Calculating FitmentPercent\n",
        "from sklearn.ensemble import RandomForestRegressor\n",
        "\n",
        "dependent_variable = 'FitmentPercent'\n",
        "independent_variable = [x for x in train.columns if x not in ['EmpID','EmpName',dependent_variable,'BiasInfluentialFactor']]\n",
        "\n",
        "model_03 = RandomForestRegressor(max_depth = 10, min_samples_leaf = 10, max_features= 'auto')\n",
        "\n",
        "# Fit the algorithm\n",
        "model_03.fit(train[independent_variable], train[dependent_variable])\n",
        "\n",
        "# Model predictions\n",
        "model_03_predictions = model_03.predict(test[independent_variable])\n"
      ],
      "execution_count": null,
      "outputs": []
    },
    {
      "cell_type": "code",
      "metadata": {
        "colab": {
          "base_uri": "https://localhost:8080/"
        },
        "id": "T_MQ_8czYCpE",
        "outputId": "6613b64c-3c93-49b0-8ad5-d594e267a3ef"
      },
      "source": [
        "#Making a copy of test dataset\n",
        "test1=pd.read_csv(\"Test.csv\")\n",
        "test1.shape"
      ],
      "execution_count": 137,
      "outputs": [
        {
          "output_type": "execute_result",
          "data": {
            "text/plain": [
              "(8745, 20)"
            ]
          },
          "metadata": {
            "tags": []
          },
          "execution_count": 137
        }
      ]
    },
    {
      "cell_type": "code",
      "metadata": {
        "colab": {
          "base_uri": "https://localhost:8080/"
        },
        "id": "jI-dsmxPYKv_",
        "outputId": "e855513a-7080-431b-f23f-9be115090669"
      },
      "source": [
        "test1['FitmentPercent']=model_03_predictions\n",
        "test1['FitmentPercent'].shape"
      ],
      "execution_count": 138,
      "outputs": [
        {
          "output_type": "execute_result",
          "data": {
            "text/plain": [
              "(8745,)"
            ]
          },
          "metadata": {
            "tags": []
          },
          "execution_count": 138
        }
      ]
    },
    {
      "cell_type": "code",
      "metadata": {
        "colab": {
          "base_uri": "https://localhost:8080/"
        },
        "id": "OfkdaqGoZ82y",
        "outputId": "7d8b7516-fefc-467b-da2b-8dd38f40b0be"
      },
      "source": [
        "test1.head()\n",
        "test1['FitmentPercent'].value_counts()"
      ],
      "execution_count": 139,
      "outputs": [
        {
          "output_type": "execute_result",
          "data": {
            "text/plain": [
              "90.083539    1\n",
              "78.209109    1\n",
              "81.795671    1\n",
              "81.238614    1\n",
              "90.612109    1\n",
              "            ..\n",
              "78.199401    1\n",
              "54.732021    1\n",
              "54.186604    1\n",
              "81.594356    1\n",
              "78.695462    1\n",
              "Name: FitmentPercent, Length: 8745, dtype: int64"
            ]
          },
          "metadata": {
            "tags": []
          },
          "execution_count": 139
        }
      ]
    },
    {
      "cell_type": "code",
      "metadata": {
        "colab": {
          "base_uri": "https://localhost:8080/",
          "height": 309
        },
        "id": "NvbVPX_EedhI",
        "outputId": "8559366c-572b-4454-edca-e7647ebe5031"
      },
      "source": [
        "test1.head()"
      ],
      "execution_count": null,
      "outputs": [
        {
          "output_type": "execute_result",
          "data": {
            "text/html": [
              "<div>\n",
              "<style scoped>\n",
              "    .dataframe tbody tr th:only-of-type {\n",
              "        vertical-align: middle;\n",
              "    }\n",
              "\n",
              "    .dataframe tbody tr th {\n",
              "        vertical-align: top;\n",
              "    }\n",
              "\n",
              "    .dataframe thead th {\n",
              "        text-align: right;\n",
              "    }\n",
              "</style>\n",
              "<table border=\"1\" class=\"dataframe\">\n",
              "  <thead>\n",
              "    <tr style=\"text-align: right;\">\n",
              "      <th></th>\n",
              "      <th>EmpID</th>\n",
              "      <th>EmpName</th>\n",
              "      <th>LanguageOfCommunication</th>\n",
              "      <th>Age</th>\n",
              "      <th>Gender</th>\n",
              "      <th>JobProfileIDApplyingFor</th>\n",
              "      <th>HighestDegree</th>\n",
              "      <th>DegreeBranch</th>\n",
              "      <th>GraduatingInstitute</th>\n",
              "      <th>LatestDegreeCGPA</th>\n",
              "      <th>YearsOfExperince</th>\n",
              "      <th>GraduationYear</th>\n",
              "      <th>CurrentCTC</th>\n",
              "      <th>ExpectedCTC</th>\n",
              "      <th>MartialStatus</th>\n",
              "      <th>EmpScore</th>\n",
              "      <th>CurrentDesignation</th>\n",
              "      <th>CurrentCompanyType</th>\n",
              "      <th>DepartmentInCompany</th>\n",
              "      <th>TotalLeavesTaken</th>\n",
              "      <th>FitmentPercent</th>\n",
              "      <th>BiasInfluentialFactor</th>\n",
              "    </tr>\n",
              "  </thead>\n",
              "  <tbody>\n",
              "    <tr>\n",
              "      <th>0</th>\n",
              "      <td>5664</td>\n",
              "      <td>Theo</td>\n",
              "      <td>Native</td>\n",
              "      <td>35</td>\n",
              "      <td>Male</td>\n",
              "      <td>JR85289</td>\n",
              "      <td>PhD</td>\n",
              "      <td>Information Technology</td>\n",
              "      <td>Tier 2</td>\n",
              "      <td>5</td>\n",
              "      <td>5</td>\n",
              "      <td>2016</td>\n",
              "      <td>27</td>\n",
              "      <td>34</td>\n",
              "      <td>Single</td>\n",
              "      <td>4</td>\n",
              "      <td>SDE</td>\n",
              "      <td>Enterprise</td>\n",
              "      <td>Finance</td>\n",
              "      <td>18</td>\n",
              "      <td>90.089858</td>\n",
              "      <td>1</td>\n",
              "    </tr>\n",
              "    <tr>\n",
              "      <th>1</th>\n",
              "      <td>23568</td>\n",
              "      <td>Vernie</td>\n",
              "      <td>English</td>\n",
              "      <td>35</td>\n",
              "      <td>Male</td>\n",
              "      <td>JR85289</td>\n",
              "      <td>B.Tech</td>\n",
              "      <td>Information Technology</td>\n",
              "      <td>Tier 3</td>\n",
              "      <td>9</td>\n",
              "      <td>12</td>\n",
              "      <td>2009</td>\n",
              "      <td>29</td>\n",
              "      <td>33</td>\n",
              "      <td>Married</td>\n",
              "      <td>4</td>\n",
              "      <td>EM</td>\n",
              "      <td>Enterprise</td>\n",
              "      <td>Engineering</td>\n",
              "      <td>8</td>\n",
              "      <td>90.606440</td>\n",
              "      <td>1</td>\n",
              "    </tr>\n",
              "    <tr>\n",
              "      <th>2</th>\n",
              "      <td>21490</td>\n",
              "      <td>Wendell</td>\n",
              "      <td>English</td>\n",
              "      <td>28</td>\n",
              "      <td>Male</td>\n",
              "      <td>JR87525</td>\n",
              "      <td>M.Tech</td>\n",
              "      <td>Artificial Intelligence</td>\n",
              "      <td>Tier 2</td>\n",
              "      <td>9</td>\n",
              "      <td>2</td>\n",
              "      <td>2019</td>\n",
              "      <td>18</td>\n",
              "      <td>25</td>\n",
              "      <td>Married</td>\n",
              "      <td>3</td>\n",
              "      <td>SDE</td>\n",
              "      <td>Startup</td>\n",
              "      <td>Engineering</td>\n",
              "      <td>18</td>\n",
              "      <td>80.702093</td>\n",
              "      <td>1</td>\n",
              "    </tr>\n",
              "    <tr>\n",
              "      <th>3</th>\n",
              "      <td>8363</td>\n",
              "      <td>West</td>\n",
              "      <td>Hindi</td>\n",
              "      <td>37</td>\n",
              "      <td>Male</td>\n",
              "      <td>JR87525</td>\n",
              "      <td>MS</td>\n",
              "      <td>Computer Science</td>\n",
              "      <td>Tier 2</td>\n",
              "      <td>8</td>\n",
              "      <td>11</td>\n",
              "      <td>2010</td>\n",
              "      <td>7</td>\n",
              "      <td>12</td>\n",
              "      <td>Single</td>\n",
              "      <td>5</td>\n",
              "      <td>DS</td>\n",
              "      <td>Enterprise</td>\n",
              "      <td>Product</td>\n",
              "      <td>17</td>\n",
              "      <td>55.545985</td>\n",
              "      <td>1</td>\n",
              "    </tr>\n",
              "    <tr>\n",
              "      <th>4</th>\n",
              "      <td>6165</td>\n",
              "      <td>Alford</td>\n",
              "      <td>Hindi</td>\n",
              "      <td>36</td>\n",
              "      <td>Female</td>\n",
              "      <td>JR85289</td>\n",
              "      <td>PhD</td>\n",
              "      <td>Artificial Intelligence</td>\n",
              "      <td>Tier 2</td>\n",
              "      <td>7</td>\n",
              "      <td>6</td>\n",
              "      <td>2015</td>\n",
              "      <td>22</td>\n",
              "      <td>32</td>\n",
              "      <td>Married</td>\n",
              "      <td>4</td>\n",
              "      <td>SDE</td>\n",
              "      <td>Startup</td>\n",
              "      <td>Engineering</td>\n",
              "      <td>9</td>\n",
              "      <td>79.603257</td>\n",
              "      <td>4</td>\n",
              "    </tr>\n",
              "  </tbody>\n",
              "</table>\n",
              "</div>"
            ],
            "text/plain": [
              "   EmpID  EmpName LanguageOfCommunication  Age  Gender  \\\n",
              "0   5664     Theo                  Native   35    Male   \n",
              "1  23568   Vernie                 English   35    Male   \n",
              "2  21490  Wendell                 English   28    Male   \n",
              "3   8363     West                   Hindi   37    Male   \n",
              "4   6165   Alford                   Hindi   36  Female   \n",
              "\n",
              "  JobProfileIDApplyingFor HighestDegree             DegreeBranch  \\\n",
              "0                 JR85289           PhD   Information Technology   \n",
              "1                 JR85289        B.Tech   Information Technology   \n",
              "2                 JR87525        M.Tech  Artificial Intelligence   \n",
              "3                 JR87525            MS         Computer Science   \n",
              "4                 JR85289           PhD  Artificial Intelligence   \n",
              "\n",
              "  GraduatingInstitute  LatestDegreeCGPA  YearsOfExperince  GraduationYear  \\\n",
              "0              Tier 2                 5                 5            2016   \n",
              "1              Tier 3                 9                12            2009   \n",
              "2              Tier 2                 9                 2            2019   \n",
              "3              Tier 2                 8                11            2010   \n",
              "4              Tier 2                 7                 6            2015   \n",
              "\n",
              "   CurrentCTC  ExpectedCTC MartialStatus  EmpScore CurrentDesignation  \\\n",
              "0          27           34        Single         4                SDE   \n",
              "1          29           33       Married         4                 EM   \n",
              "2          18           25       Married         3                SDE   \n",
              "3           7           12        Single         5                 DS   \n",
              "4          22           32       Married         4                SDE   \n",
              "\n",
              "  CurrentCompanyType DepartmentInCompany  TotalLeavesTaken  FitmentPercent  \\\n",
              "0         Enterprise             Finance                18       90.089858   \n",
              "1         Enterprise         Engineering                 8       90.606440   \n",
              "2            Startup         Engineering                18       80.702093   \n",
              "3         Enterprise             Product                17       55.545985   \n",
              "4            Startup         Engineering                 9       79.603257   \n",
              "\n",
              "   BiasInfluentialFactor  \n",
              "0                      1  \n",
              "1                      1  \n",
              "2                      1  \n",
              "3                      1  \n",
              "4                      4  "
            ]
          },
          "metadata": {
            "tags": []
          },
          "execution_count": 79
        }
      ]
    },
    {
      "cell_type": "code",
      "metadata": {
        "colab": {
          "base_uri": "https://localhost:8080/"
        },
        "id": "6_b--iDTi_uV",
        "outputId": "85666495-f799-4366-fffb-ce844e00e675"
      },
      "source": [
        "test1.shape"
      ],
      "execution_count": null,
      "outputs": [
        {
          "output_type": "execute_result",
          "data": {
            "text/plain": [
              "(8745, 22)"
            ]
          },
          "metadata": {
            "tags": []
          },
          "execution_count": 84
        }
      ]
    },
    {
      "cell_type": "code",
      "metadata": {
        "id": "MOBo_d17aST1"
      },
      "source": [
        "# RandomForest Classifer Model for calculating Bias InfluentialFactor\n",
        "from sklearn.ensemble import RandomForestClassifier\n",
        "\n",
        "dependent_variable = 'BiasInfluentialFactor'\n",
        "independent_variable = [x for x in train.columns if x not in ['EmpID','EmpName',dependent_variable,'FitmentPercent']]\n",
        "\n",
        "model_031 = RandomForestClassifier(max_depth = 10, min_samples_leaf = 10, max_features= 'auto')\n",
        "\n",
        "# Fit the algorithm\n",
        "model_031.fit(train[independent_variable], train[dependent_variable])\n",
        "\n",
        "# Model predictions\n",
        "model_031_predictions = model_031.predict(test[independent_variable])\n"
      ],
      "execution_count": null,
      "outputs": []
    },
    {
      "cell_type": "code",
      "metadata": {
        "id": "OjrepSB7a1uA"
      },
      "source": [
        "test1['BiasInfluentialFactor']=model_031_predictions"
      ],
      "execution_count": null,
      "outputs": []
    },
    {
      "cell_type": "code",
      "metadata": {
        "colab": {
          "base_uri": "https://localhost:8080/"
        },
        "id": "kRvgrEKybIYN",
        "outputId": "aaad6238-2f56-47b6-80f2-282cc9b7fd48"
      },
      "source": [
        "test1['BiasInfluentialFactor'].value_counts()"
      ],
      "execution_count": null,
      "outputs": [
        {
          "output_type": "execute_result",
          "data": {
            "text/plain": [
              "1    5153\n",
              "4    1916\n",
              "8    1086\n",
              "5     364\n",
              "2     157\n",
              "0      69\n",
              "Name: BiasInfluentialFactor, dtype: int64"
            ]
          },
          "metadata": {
            "tags": []
          },
          "execution_count": 65
        }
      ]
    },
    {
      "cell_type": "code",
      "metadata": {
        "colab": {
          "base_uri": "https://localhost:8080/"
        },
        "id": "yNCwyecSXUIH",
        "outputId": "9868d785-5239-4bd7-9cde-5267d7faa959"
      },
      "source": [
        "test1['FitmentPercent'].head()\n"
      ],
      "execution_count": null,
      "outputs": [
        {
          "output_type": "execute_result",
          "data": {
            "text/plain": [
              "0    90.089858\n",
              "1    90.606440\n",
              "2    80.702093\n",
              "3    55.545985\n",
              "4    79.603257\n",
              "Name: FitmentPercent, dtype: float64"
            ]
          },
          "metadata": {
            "tags": []
          },
          "execution_count": 73
        }
      ]
    },
    {
      "cell_type": "code",
      "metadata": {
        "colab": {
          "base_uri": "https://localhost:8080/",
          "height": 204
        },
        "id": "soTVvQYSZdt8",
        "outputId": "4eacb47a-0883-46cb-94a8-eb02764822ab"
      },
      "source": [
        "sample.head()"
      ],
      "execution_count": null,
      "outputs": [
        {
          "output_type": "execute_result",
          "data": {
            "text/html": [
              "<div>\n",
              "<style scoped>\n",
              "    .dataframe tbody tr th:only-of-type {\n",
              "        vertical-align: middle;\n",
              "    }\n",
              "\n",
              "    .dataframe tbody tr th {\n",
              "        vertical-align: top;\n",
              "    }\n",
              "\n",
              "    .dataframe thead th {\n",
              "        text-align: right;\n",
              "    }\n",
              "</style>\n",
              "<table border=\"1\" class=\"dataframe\">\n",
              "  <thead>\n",
              "    <tr style=\"text-align: right;\">\n",
              "      <th></th>\n",
              "      <th>EmpID</th>\n",
              "      <th>BiasInfluentialFactor</th>\n",
              "      <th>FitmentPercent</th>\n",
              "    </tr>\n",
              "  </thead>\n",
              "  <tbody>\n",
              "    <tr>\n",
              "      <th>0</th>\n",
              "      <td>5664</td>\n",
              "      <td>MaritalStatus</td>\n",
              "      <td>90.029168</td>\n",
              "    </tr>\n",
              "    <tr>\n",
              "      <th>1</th>\n",
              "      <td>23568</td>\n",
              "      <td>DegreeBranch</td>\n",
              "      <td>90.356092</td>\n",
              "    </tr>\n",
              "    <tr>\n",
              "      <th>2</th>\n",
              "      <td>21490</td>\n",
              "      <td>MartialStatus</td>\n",
              "      <td>80.994493</td>\n",
              "    </tr>\n",
              "    <tr>\n",
              "      <th>3</th>\n",
              "      <td>8363</td>\n",
              "      <td>HighestDegree</td>\n",
              "      <td>55.637235</td>\n",
              "    </tr>\n",
              "    <tr>\n",
              "      <th>4</th>\n",
              "      <td>6165</td>\n",
              "      <td>Gender</td>\n",
              "      <td>79.286901</td>\n",
              "    </tr>\n",
              "  </tbody>\n",
              "</table>\n",
              "</div>"
            ],
            "text/plain": [
              "   EmpID BiasInfluentialFactor  FitmentPercent\n",
              "0   5664         MaritalStatus       90.029168\n",
              "1  23568          DegreeBranch       90.356092\n",
              "2  21490         MartialStatus       80.994493\n",
              "3   8363         HighestDegree       55.637235\n",
              "4   6165                Gender       79.286901"
            ]
          },
          "metadata": {
            "tags": []
          },
          "execution_count": 56
        }
      ]
    },
    {
      "cell_type": "code",
      "metadata": {
        "id": "jGvvZHOD1C0j"
      },
      "source": [
        "from google.colab import files\n",
        "import pandas as pd\n",
        "test1.to_csv('test2.csv')\n",
        "files.download('test2.csv')"
      ],
      "execution_count": null,
      "outputs": []
    }
  ]
}